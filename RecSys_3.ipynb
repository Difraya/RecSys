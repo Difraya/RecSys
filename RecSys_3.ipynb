{
  "metadata": {
    "kernelspec": {
      "name": "python3",
      "display_name": "Python 3",
      "language": "python"
    },
    "language_info": {
      "codemirror_mode": {
        "name": "ipython",
        "version": 3
      },
      "file_extension": ".py",
      "mimetype": "text/x-python",
      "name": "python",
      "nbconvert_exporter": "python",
      "pygments_lexer": "ipython3",
      "version": "3.10.12"
    },
    "kaggle": {
      "accelerator": "nvidiaTeslaT4",
      "dataSources": [
        {
          "sourceId": 11311818,
          "sourceType": "datasetVersion",
          "datasetId": 7074972
        }
      ],
      "dockerImageVersionId": 30919,
      "isInternetEnabled": true,
      "language": "python",
      "sourceType": "notebook",
      "isGpuEnabled": true
    },
    "colab": {
      "provenance": []
    }
  },
  "nbformat_minor": 5,
  "nbformat": 4,
  "cells": [
    {
      "id": "931e2f8f-1e89-4e70-a9a7-89efb807692b",
      "cell_type": "code",
      "source": [
        "# скачиваем данные\n",
        "# если из этой ячейки не получается, то вот ссылка на папку https://drive.google.com/drive/folders/1HT0Apm8Jft0VPLJtdBBUGu9s1M7vZcoJ?usp=drive_link\n",
        "\n",
        "!pip3 install gdown\n",
        "\n",
        "\n",
        "import gdown\n",
        "# train\n",
        "url = \"https://drive.google.com/uc?id=1-CcS22-UpTJeNcFlA0dVLrEQn8jnI0d-\"\n",
        "\n",
        "output = 'train.csv'\n",
        "gdown.download(url, output, quiet=True)\n",
        "\n",
        "# test\n",
        "url = \"https://drive.google.com/uc?id=11iz3xDh0IIoEIBY0dyRSvByY3qfiT3BG\"\n",
        "\n",
        "output = 'test.csv'\n",
        "gdown.download(url, output, quiet=True)\n",
        "\n",
        "# user features\n",
        "url = \"https://drive.google.com/uc?id=1zl2jWMdUhc-IMakHlihQhJ5PGGZm9-_O\"\n",
        "output = 'users.csv'\n",
        "gdown.download(url, output, quiet=True, fuzzy=True)\n",
        "\n",
        "# item features\n",
        "url = \"https://drive.google.com/uc?id=1chCmpiCKJRjdqNftHc-t2ALl3qbAp2G8\"\n",
        "output = 'items.csv'\n",
        "gdown.download(url, output, quiet=True)"
      ],
      "metadata": {
        "execution": {
          "iopub.status.busy": "2025-04-07T15:52:37.100107Z",
          "iopub.execute_input": "2025-04-07T15:52:37.100388Z",
          "iopub.status.idle": "2025-04-07T15:53:01.125872Z",
          "shell.execute_reply.started": "2025-04-07T15:52:37.100368Z",
          "shell.execute_reply": "2025-04-07T15:53:01.124967Z"
        },
        "trusted": true,
        "colab": {
          "base_uri": "https://localhost:8080/",
          "height": 860
        },
        "id": "931e2f8f-1e89-4e70-a9a7-89efb807692b",
        "outputId": "b6436d7e-9e48-4202-cc46-39fb7be6bf8c"
      },
      "outputs": [
        {
          "output_type": "stream",
          "name": "stdout",
          "text": [
            "Requirement already satisfied: gdown in /usr/local/lib/python3.11/dist-packages (5.2.0)\n",
            "Requirement already satisfied: beautifulsoup4 in /usr/local/lib/python3.11/dist-packages (from gdown) (4.13.3)\n",
            "Requirement already satisfied: filelock in /usr/local/lib/python3.11/dist-packages (from gdown) (3.18.0)\n",
            "Requirement already satisfied: requests[socks] in /usr/local/lib/python3.11/dist-packages (from gdown) (2.32.3)\n",
            "Requirement already satisfied: tqdm in /usr/local/lib/python3.11/dist-packages (from gdown) (4.67.1)\n",
            "Requirement already satisfied: soupsieve>1.2 in /usr/local/lib/python3.11/dist-packages (from beautifulsoup4->gdown) (2.6)\n",
            "Requirement already satisfied: typing-extensions>=4.0.0 in /usr/local/lib/python3.11/dist-packages (from beautifulsoup4->gdown) (4.13.1)\n",
            "Requirement already satisfied: charset-normalizer<4,>=2 in /usr/local/lib/python3.11/dist-packages (from requests[socks]->gdown) (3.4.1)\n",
            "Requirement already satisfied: idna<4,>=2.5 in /usr/local/lib/python3.11/dist-packages (from requests[socks]->gdown) (3.10)\n",
            "Requirement already satisfied: urllib3<3,>=1.21.1 in /usr/local/lib/python3.11/dist-packages (from requests[socks]->gdown) (2.3.0)\n",
            "Requirement already satisfied: certifi>=2017.4.17 in /usr/local/lib/python3.11/dist-packages (from requests[socks]->gdown) (2025.1.31)\n",
            "Requirement already satisfied: PySocks!=1.5.7,>=1.5.6 in /usr/local/lib/python3.11/dist-packages (from requests[socks]->gdown) (1.7.1)\n"
          ]
        },
        {
          "output_type": "error",
          "ename": "FileURLRetrievalError",
          "evalue": "Failed to retrieve file url:\n\n\tToo many users have viewed or downloaded this file recently. Please\n\ttry accessing the file again later. If the file you are trying to\n\taccess is particularly large or is shared with many people, it may\n\ttake up to 24 hours to be able to view or download the file. If you\n\tstill can't access a file after 24 hours, contact your domain\n\tadministrator.\n\nYou may still be able to access the file from the browser:\n\n\thttps://drive.google.com/uc?id=1-CcS22-UpTJeNcFlA0dVLrEQn8jnI0d-\n\nbut Gdown can't. Please check connections and permissions.",
          "traceback": [
            "\u001b[0;31m---------------------------------------------------------------------------\u001b[0m",
            "\u001b[0;31mFileURLRetrievalError\u001b[0m                     Traceback (most recent call last)",
            "\u001b[0;32m/usr/local/lib/python3.11/dist-packages/gdown/download.py\u001b[0m in \u001b[0;36mdownload\u001b[0;34m(url, output, quiet, proxy, speed, use_cookies, verify, id, fuzzy, resume, format, user_agent, log_messages)\u001b[0m\n\u001b[1;32m    266\u001b[0m         \u001b[0;32mtry\u001b[0m\u001b[0;34m:\u001b[0m\u001b[0;34m\u001b[0m\u001b[0;34m\u001b[0m\u001b[0m\n\u001b[0;32m--> 267\u001b[0;31m             \u001b[0murl\u001b[0m \u001b[0;34m=\u001b[0m \u001b[0mget_url_from_gdrive_confirmation\u001b[0m\u001b[0;34m(\u001b[0m\u001b[0mres\u001b[0m\u001b[0;34m.\u001b[0m\u001b[0mtext\u001b[0m\u001b[0;34m)\u001b[0m\u001b[0;34m\u001b[0m\u001b[0;34m\u001b[0m\u001b[0m\n\u001b[0m\u001b[1;32m    268\u001b[0m         \u001b[0;32mexcept\u001b[0m \u001b[0mFileURLRetrievalError\u001b[0m \u001b[0;32mas\u001b[0m \u001b[0me\u001b[0m\u001b[0;34m:\u001b[0m\u001b[0;34m\u001b[0m\u001b[0;34m\u001b[0m\u001b[0m\n",
            "\u001b[0;32m/usr/local/lib/python3.11/dist-packages/gdown/download.py\u001b[0m in \u001b[0;36mget_url_from_gdrive_confirmation\u001b[0;34m(contents)\u001b[0m\n\u001b[1;32m     52\u001b[0m             \u001b[0merror\u001b[0m \u001b[0;34m=\u001b[0m \u001b[0mm\u001b[0m\u001b[0;34m.\u001b[0m\u001b[0mgroups\u001b[0m\u001b[0;34m(\u001b[0m\u001b[0;34m)\u001b[0m\u001b[0;34m[\u001b[0m\u001b[0;36m0\u001b[0m\u001b[0;34m]\u001b[0m\u001b[0;34m\u001b[0m\u001b[0;34m\u001b[0m\u001b[0m\n\u001b[0;32m---> 53\u001b[0;31m             \u001b[0;32mraise\u001b[0m \u001b[0mFileURLRetrievalError\u001b[0m\u001b[0;34m(\u001b[0m\u001b[0merror\u001b[0m\u001b[0;34m)\u001b[0m\u001b[0;34m\u001b[0m\u001b[0;34m\u001b[0m\u001b[0m\n\u001b[0m\u001b[1;32m     54\u001b[0m     \u001b[0;32mif\u001b[0m \u001b[0;32mnot\u001b[0m \u001b[0murl\u001b[0m\u001b[0;34m:\u001b[0m\u001b[0;34m\u001b[0m\u001b[0;34m\u001b[0m\u001b[0m\n",
            "\u001b[0;31mFileURLRetrievalError\u001b[0m: Too many users have viewed or downloaded this file recently. Please try accessing the file again later. If the file you are trying to access is particularly large or is shared with many people, it may take up to 24 hours to be able to view or download the file. If you still can't access a file after 24 hours, contact your domain administrator.",
            "\nDuring handling of the above exception, another exception occurred:\n",
            "\u001b[0;31mFileURLRetrievalError\u001b[0m                     Traceback (most recent call last)",
            "\u001b[0;32m<ipython-input-1-3c1ef2c1a6ee>\u001b[0m in \u001b[0;36m<cell line: 0>\u001b[0;34m()\u001b[0m\n\u001b[1;32m     10\u001b[0m \u001b[0;34m\u001b[0m\u001b[0m\n\u001b[1;32m     11\u001b[0m \u001b[0moutput\u001b[0m \u001b[0;34m=\u001b[0m \u001b[0;34m'train.csv'\u001b[0m\u001b[0;34m\u001b[0m\u001b[0;34m\u001b[0m\u001b[0m\n\u001b[0;32m---> 12\u001b[0;31m \u001b[0mgdown\u001b[0m\u001b[0;34m.\u001b[0m\u001b[0mdownload\u001b[0m\u001b[0;34m(\u001b[0m\u001b[0murl\u001b[0m\u001b[0;34m,\u001b[0m \u001b[0moutput\u001b[0m\u001b[0;34m,\u001b[0m \u001b[0mquiet\u001b[0m\u001b[0;34m=\u001b[0m\u001b[0;32mTrue\u001b[0m\u001b[0;34m)\u001b[0m\u001b[0;34m\u001b[0m\u001b[0;34m\u001b[0m\u001b[0m\n\u001b[0m\u001b[1;32m     13\u001b[0m \u001b[0;34m\u001b[0m\u001b[0m\n\u001b[1;32m     14\u001b[0m \u001b[0;31m# test\u001b[0m\u001b[0;34m\u001b[0m\u001b[0;34m\u001b[0m\u001b[0m\n",
            "\u001b[0;32m/usr/local/lib/python3.11/dist-packages/gdown/download.py\u001b[0m in \u001b[0;36mdownload\u001b[0;34m(url, output, quiet, proxy, speed, use_cookies, verify, id, fuzzy, resume, format, user_agent, log_messages)\u001b[0m\n\u001b[1;32m    276\u001b[0m                 \u001b[0murl_origin\u001b[0m\u001b[0;34m,\u001b[0m\u001b[0;34m\u001b[0m\u001b[0;34m\u001b[0m\u001b[0m\n\u001b[1;32m    277\u001b[0m             )\n\u001b[0;32m--> 278\u001b[0;31m             \u001b[0;32mraise\u001b[0m \u001b[0mFileURLRetrievalError\u001b[0m\u001b[0;34m(\u001b[0m\u001b[0mmessage\u001b[0m\u001b[0;34m)\u001b[0m\u001b[0;34m\u001b[0m\u001b[0;34m\u001b[0m\u001b[0m\n\u001b[0m\u001b[1;32m    279\u001b[0m \u001b[0;34m\u001b[0m\u001b[0m\n\u001b[1;32m    280\u001b[0m     \u001b[0mfilename_from_url\u001b[0m \u001b[0;34m=\u001b[0m \u001b[0;32mNone\u001b[0m\u001b[0;34m\u001b[0m\u001b[0;34m\u001b[0m\u001b[0m\n",
            "\u001b[0;31mFileURLRetrievalError\u001b[0m: Failed to retrieve file url:\n\n\tToo many users have viewed or downloaded this file recently. Please\n\ttry accessing the file again later. If the file you are trying to\n\taccess is particularly large or is shared with many people, it may\n\ttake up to 24 hours to be able to view or download the file. If you\n\tstill can't access a file after 24 hours, contact your domain\n\tadministrator.\n\nYou may still be able to access the file from the browser:\n\n\thttps://drive.google.com/uc?id=1-CcS22-UpTJeNcFlA0dVLrEQn8jnI0d-\n\nbut Gdown can't. Please check connections and permissions."
          ]
        }
      ],
      "execution_count": 1
    },
    {
      "cell_type": "code",
      "source": [
        "!apt install unrar"
      ],
      "metadata": {
        "colab": {
          "base_uri": "https://localhost:8080/"
        },
        "id": "8sspGobV-Slc",
        "outputId": "0e3af9fd-5ba2-432b-d85c-cf55d73b3e84"
      },
      "id": "8sspGobV-Slc",
      "execution_count": 2,
      "outputs": [
        {
          "output_type": "stream",
          "name": "stdout",
          "text": [
            "Reading package lists... Done\n",
            "Building dependency tree... Done\n",
            "Reading state information... Done\n",
            "unrar is already the newest version (1:6.1.5-1ubuntu0.1).\n",
            "0 upgraded, 0 newly installed, 0 to remove and 30 not upgraded.\n"
          ]
        }
      ]
    },
    {
      "id": "48c0176a-24fd-4eea-9097-dc0744e2d9ca",
      "cell_type": "code",
      "source": [
        "import pandas as pd\n",
        "\n",
        "df_train = pd.read_csv('train.csv')\n",
        "df_test = pd.read_csv('test.csv')"
      ],
      "metadata": {
        "execution": {
          "iopub.status.busy": "2025-04-07T15:53:01.127135Z",
          "iopub.execute_input": "2025-04-07T15:53:01.127614Z",
          "iopub.status.idle": "2025-04-07T15:53:04.044677Z",
          "shell.execute_reply.started": "2025-04-07T15:53:01.127585Z",
          "shell.execute_reply": "2025-04-07T15:53:04.044027Z"
        },
        "tags": [],
        "trusted": true,
        "id": "48c0176a-24fd-4eea-9097-dc0744e2d9ca"
      },
      "outputs": [],
      "execution_count": null
    },
    {
      "id": "1d57856c-d2b7-4082-86c5-71bc030d0504",
      "cell_type": "code",
      "source": [
        "users = pd.read_csv('users.csv')\n",
        "items = pd.read_csv('items.csv')"
      ],
      "metadata": {
        "trusted": true,
        "execution": {
          "iopub.status.busy": "2025-04-07T15:53:04.046276Z",
          "iopub.execute_input": "2025-04-07T15:53:04.046570Z",
          "iopub.status.idle": "2025-04-07T15:53:04.992038Z",
          "shell.execute_reply.started": "2025-04-07T15:53:04.046549Z",
          "shell.execute_reply": "2025-04-07T15:53:04.991008Z"
        },
        "id": "1d57856c-d2b7-4082-86c5-71bc030d0504"
      },
      "outputs": [],
      "execution_count": null
    },
    {
      "id": "9cc81098-6ca6-43e6-a438-166ba5fd00b5",
      "cell_type": "code",
      "source": [
        "df_train = df_train.sort_values('last_watch_dt').reset_index(drop=True)\n",
        "\n",
        "split_index = int(len(df_train) * 0.8)\n",
        "\n",
        "train_stage_1 = df_train.iloc[:split_index]\n",
        "valid_stage_1 = df_train.iloc[split_index:]\n",
        "df_train.head(3)"
      ],
      "metadata": {
        "execution": {
          "iopub.status.busy": "2025-04-07T15:53:04.993500Z",
          "iopub.execute_input": "2025-04-07T15:53:04.993733Z",
          "iopub.status.idle": "2025-04-07T15:53:08.095357Z",
          "shell.execute_reply.started": "2025-04-07T15:53:04.993713Z",
          "shell.execute_reply": "2025-04-07T15:53:08.094647Z"
        },
        "tags": [],
        "trusted": true,
        "id": "9cc81098-6ca6-43e6-a438-166ba5fd00b5",
        "outputId": "3f31585e-1cd3-4b07-dfeb-2eee6f59ccc3"
      },
      "outputs": [
        {
          "execution_count": 5,
          "output_type": "execute_result",
          "data": {
            "text/plain": "   user_id  item_id last_watch_dt  total_dur  watched_pct  target\n0   310745    13373    2021-03-13       4485         98.0       1\n1   841963     3095    2021-03-13         83          1.0       0\n2   914523    13936    2021-03-13       5503         92.0       1",
            "text/html": "<div>\n<style scoped>\n    .dataframe tbody tr th:only-of-type {\n        vertical-align: middle;\n    }\n\n    .dataframe tbody tr th {\n        vertical-align: top;\n    }\n\n    .dataframe thead th {\n        text-align: right;\n    }\n</style>\n<table border=\"1\" class=\"dataframe\">\n  <thead>\n    <tr style=\"text-align: right;\">\n      <th></th>\n      <th>user_id</th>\n      <th>item_id</th>\n      <th>last_watch_dt</th>\n      <th>total_dur</th>\n      <th>watched_pct</th>\n      <th>target</th>\n    </tr>\n  </thead>\n  <tbody>\n    <tr>\n      <th>0</th>\n      <td>310745</td>\n      <td>13373</td>\n      <td>2021-03-13</td>\n      <td>4485</td>\n      <td>98.0</td>\n      <td>1</td>\n    </tr>\n    <tr>\n      <th>1</th>\n      <td>841963</td>\n      <td>3095</td>\n      <td>2021-03-13</td>\n      <td>83</td>\n      <td>1.0</td>\n      <td>0</td>\n    </tr>\n    <tr>\n      <th>2</th>\n      <td>914523</td>\n      <td>13936</td>\n      <td>2021-03-13</td>\n      <td>5503</td>\n      <td>92.0</td>\n      <td>1</td>\n    </tr>\n  </tbody>\n</table>\n</div>"
          },
          "metadata": {}
        }
      ],
      "execution_count": null
    },
    {
      "id": "61ca262a-5bf2-4ac0-b365-9155f3605f2d",
      "cell_type": "code",
      "source": [
        "users.head()"
      ],
      "metadata": {
        "trusted": true,
        "execution": {
          "iopub.status.busy": "2025-04-07T15:53:08.096158Z",
          "iopub.execute_input": "2025-04-07T15:53:08.096372Z",
          "iopub.status.idle": "2025-04-07T15:53:08.104368Z",
          "shell.execute_reply.started": "2025-04-07T15:53:08.096353Z",
          "shell.execute_reply": "2025-04-07T15:53:08.103504Z"
        },
        "id": "61ca262a-5bf2-4ac0-b365-9155f3605f2d",
        "outputId": "b25db010-901c-4237-8c39-154ab4e7bf8c"
      },
      "outputs": [
        {
          "execution_count": 6,
          "output_type": "execute_result",
          "data": {
            "text/plain": "   user_id        age        income sex  kids_flg\n0   973171  age_25_34  income_60_90   М         1\n1   962099  age_18_24  income_20_40   М         0\n2  1047345  age_45_54  income_40_60   Ж         0\n3   721985  age_45_54  income_20_40   Ж         0\n4   704055  age_35_44  income_60_90   Ж         0",
            "text/html": "<div>\n<style scoped>\n    .dataframe tbody tr th:only-of-type {\n        vertical-align: middle;\n    }\n\n    .dataframe tbody tr th {\n        vertical-align: top;\n    }\n\n    .dataframe thead th {\n        text-align: right;\n    }\n</style>\n<table border=\"1\" class=\"dataframe\">\n  <thead>\n    <tr style=\"text-align: right;\">\n      <th></th>\n      <th>user_id</th>\n      <th>age</th>\n      <th>income</th>\n      <th>sex</th>\n      <th>kids_flg</th>\n    </tr>\n  </thead>\n  <tbody>\n    <tr>\n      <th>0</th>\n      <td>973171</td>\n      <td>age_25_34</td>\n      <td>income_60_90</td>\n      <td>М</td>\n      <td>1</td>\n    </tr>\n    <tr>\n      <th>1</th>\n      <td>962099</td>\n      <td>age_18_24</td>\n      <td>income_20_40</td>\n      <td>М</td>\n      <td>0</td>\n    </tr>\n    <tr>\n      <th>2</th>\n      <td>1047345</td>\n      <td>age_45_54</td>\n      <td>income_40_60</td>\n      <td>Ж</td>\n      <td>0</td>\n    </tr>\n    <tr>\n      <th>3</th>\n      <td>721985</td>\n      <td>age_45_54</td>\n      <td>income_20_40</td>\n      <td>Ж</td>\n      <td>0</td>\n    </tr>\n    <tr>\n      <th>4</th>\n      <td>704055</td>\n      <td>age_35_44</td>\n      <td>income_60_90</td>\n      <td>Ж</td>\n      <td>0</td>\n    </tr>\n  </tbody>\n</table>\n</div>"
          },
          "metadata": {}
        }
      ],
      "execution_count": null
    },
    {
      "id": "8176d052-53a5-41d5-856f-d8da8a85ed74",
      "cell_type": "code",
      "source": [
        "items.head()"
      ],
      "metadata": {
        "trusted": true,
        "execution": {
          "iopub.status.busy": "2025-04-07T15:53:08.105326Z",
          "iopub.execute_input": "2025-04-07T15:53:08.105640Z",
          "iopub.status.idle": "2025-04-07T15:53:08.154106Z",
          "shell.execute_reply.started": "2025-04-07T15:53:08.105619Z",
          "shell.execute_reply": "2025-04-07T15:53:08.153355Z"
        },
        "id": "8176d052-53a5-41d5-856f-d8da8a85ed74",
        "outputId": "0d55a187-fc5e-41f3-c542-ee4432e1be18"
      },
      "outputs": [
        {
          "name": "stderr",
          "text": "/usr/local/lib/python3.10/dist-packages/pandas/io/formats/format.py:1458: RuntimeWarning: invalid value encountered in greater\n  has_large_values = (abs_vals > 1e6).any()\n/usr/local/lib/python3.10/dist-packages/pandas/io/formats/format.py:1459: RuntimeWarning: invalid value encountered in less\n  has_small_values = ((abs_vals < 10 ** (-self.digits)) & (abs_vals > 0)).any()\n/usr/local/lib/python3.10/dist-packages/pandas/io/formats/format.py:1459: RuntimeWarning: invalid value encountered in greater\n  has_small_values = ((abs_vals < 10 ** (-self.digits)) & (abs_vals > 0)).any()\n",
          "output_type": "stream"
        },
        {
          "execution_count": 7,
          "output_type": "execute_result",
          "data": {
            "text/plain": "   item_id content_type                 title      title_orig  release_year  \\\n0    10711         film        Поговори с ней  Hable con ella        2002.0   \n1     2508         film           Голые перцы    Search Party        2014.0   \n2    10716         film      Тактическая сила  Tactical Force        2011.0   \n3     7868         film                45 лет        45 Years        2015.0   \n4    16268         film  Все решает мгновение             NaN        1978.0   \n\n                                             genres       countries  for_kids  \\\n0           драмы, зарубежные, детективы, мелодрамы         Испания       NaN   \n1                  зарубежные, приключения, комедии             США       NaN   \n2  криминал, зарубежные, триллеры, боевики, комедии          Канада       NaN   \n3                      драмы, зарубежные, мелодрамы  Великобритания       NaN   \n4                драмы, спорт, советские, мелодрамы            СССР       NaN   \n\n   age_rating   studios         directors  \\\n0        16.0       NaN  Педро Альмодовар   \n1        16.0       NaN    Скот Армстронг   \n2        16.0       NaN  Адам П. Калтраро   \n3        16.0       NaN         Эндрю Хэй   \n4        12.0  Ленфильм  Виктор Садовский   \n\n                                              actors  \\\n0  Адольфо Фернандес, Ана Фернандес, Дарио Гранди...   \n1  Адам Палли, Брайан Хаски, Дж.Б. Смув, Джейсон ...   \n2  Адриан Холмс, Даррен Шалави, Джерри Вассерман,...   \n3  Александра Риддлстон-Барретт, Джеральдин Джейм...   \n4  Александр Абдулов, Александр Демьяненко, Алекс...   \n\n                                         description  \\\n0  Мелодрама легендарного Педро Альмодовара «Пого...   \n1  Уморительная современная комедия на популярную...   \n2  Профессиональный рестлер Стив Остин («Все или ...   \n3  Шарлотта Рэмплинг, Том Кортни, Джеральдин Джей...   \n4  Расчетливая чаровница из советского кинохита «...   \n\n                                            keywords  \n0  Поговори, ней, 2002, Испания, друзья, любовь, ...  \n1  Голые, перцы, 2014, США, друзья, свадьбы, прео...  \n2  Тактическая, сила, 2011, Канада, бандиты, ганг...  \n3  45, лет, 2015, Великобритания, брак, жизнь, лю...  \n4  Все, решает, мгновение, 1978, СССР, сильные, ж...  ",
            "text/html": "<div>\n<style scoped>\n    .dataframe tbody tr th:only-of-type {\n        vertical-align: middle;\n    }\n\n    .dataframe tbody tr th {\n        vertical-align: top;\n    }\n\n    .dataframe thead th {\n        text-align: right;\n    }\n</style>\n<table border=\"1\" class=\"dataframe\">\n  <thead>\n    <tr style=\"text-align: right;\">\n      <th></th>\n      <th>item_id</th>\n      <th>content_type</th>\n      <th>title</th>\n      <th>title_orig</th>\n      <th>release_year</th>\n      <th>genres</th>\n      <th>countries</th>\n      <th>for_kids</th>\n      <th>age_rating</th>\n      <th>studios</th>\n      <th>directors</th>\n      <th>actors</th>\n      <th>description</th>\n      <th>keywords</th>\n    </tr>\n  </thead>\n  <tbody>\n    <tr>\n      <th>0</th>\n      <td>10711</td>\n      <td>film</td>\n      <td>Поговори с ней</td>\n      <td>Hable con ella</td>\n      <td>2002.0</td>\n      <td>драмы, зарубежные, детективы, мелодрамы</td>\n      <td>Испания</td>\n      <td>NaN</td>\n      <td>16.0</td>\n      <td>NaN</td>\n      <td>Педро Альмодовар</td>\n      <td>Адольфо Фернандес, Ана Фернандес, Дарио Гранди...</td>\n      <td>Мелодрама легендарного Педро Альмодовара «Пого...</td>\n      <td>Поговори, ней, 2002, Испания, друзья, любовь, ...</td>\n    </tr>\n    <tr>\n      <th>1</th>\n      <td>2508</td>\n      <td>film</td>\n      <td>Голые перцы</td>\n      <td>Search Party</td>\n      <td>2014.0</td>\n      <td>зарубежные, приключения, комедии</td>\n      <td>США</td>\n      <td>NaN</td>\n      <td>16.0</td>\n      <td>NaN</td>\n      <td>Скот Армстронг</td>\n      <td>Адам Палли, Брайан Хаски, Дж.Б. Смув, Джейсон ...</td>\n      <td>Уморительная современная комедия на популярную...</td>\n      <td>Голые, перцы, 2014, США, друзья, свадьбы, прео...</td>\n    </tr>\n    <tr>\n      <th>2</th>\n      <td>10716</td>\n      <td>film</td>\n      <td>Тактическая сила</td>\n      <td>Tactical Force</td>\n      <td>2011.0</td>\n      <td>криминал, зарубежные, триллеры, боевики, комедии</td>\n      <td>Канада</td>\n      <td>NaN</td>\n      <td>16.0</td>\n      <td>NaN</td>\n      <td>Адам П. Калтраро</td>\n      <td>Адриан Холмс, Даррен Шалави, Джерри Вассерман,...</td>\n      <td>Профессиональный рестлер Стив Остин («Все или ...</td>\n      <td>Тактическая, сила, 2011, Канада, бандиты, ганг...</td>\n    </tr>\n    <tr>\n      <th>3</th>\n      <td>7868</td>\n      <td>film</td>\n      <td>45 лет</td>\n      <td>45 Years</td>\n      <td>2015.0</td>\n      <td>драмы, зарубежные, мелодрамы</td>\n      <td>Великобритания</td>\n      <td>NaN</td>\n      <td>16.0</td>\n      <td>NaN</td>\n      <td>Эндрю Хэй</td>\n      <td>Александра Риддлстон-Барретт, Джеральдин Джейм...</td>\n      <td>Шарлотта Рэмплинг, Том Кортни, Джеральдин Джей...</td>\n      <td>45, лет, 2015, Великобритания, брак, жизнь, лю...</td>\n    </tr>\n    <tr>\n      <th>4</th>\n      <td>16268</td>\n      <td>film</td>\n      <td>Все решает мгновение</td>\n      <td>NaN</td>\n      <td>1978.0</td>\n      <td>драмы, спорт, советские, мелодрамы</td>\n      <td>СССР</td>\n      <td>NaN</td>\n      <td>12.0</td>\n      <td>Ленфильм</td>\n      <td>Виктор Садовский</td>\n      <td>Александр Абдулов, Александр Демьяненко, Алекс...</td>\n      <td>Расчетливая чаровница из советского кинохита «...</td>\n      <td>Все, решает, мгновение, 1978, СССР, сильные, ж...</td>\n    </tr>\n  </tbody>\n</table>\n</div>"
          },
          "metadata": {}
        }
      ],
      "execution_count": null
    },
    {
      "id": "2ff92d38-c1a1-4f47-a03a-4983f951c44a",
      "cell_type": "code",
      "source": [
        "item2id = {k:v for v, k in enumerate(train_stage_1.item_id.unique())}\n",
        "user2id = {k:v for v, k in enumerate(train_stage_1.user_id.unique())}\n",
        "\n",
        "id2item = {k:v for v, k in item2id.items()}\n",
        "id2user = {k:v for v, k in user2id.items()}\n",
        "\n",
        "train_stage_1['user_id'] = train_stage_1.user_id.apply(lambda x: user2id[x])\n",
        "train_stage_1['item_id'] = train_stage_1.item_id.apply(lambda x: item2id[x])"
      ],
      "metadata": {
        "trusted": true,
        "execution": {
          "iopub.status.busy": "2025-04-07T15:53:08.154826Z",
          "iopub.execute_input": "2025-04-07T15:53:08.155056Z",
          "iopub.status.idle": "2025-04-07T15:53:12.428164Z",
          "shell.execute_reply.started": "2025-04-07T15:53:08.155036Z",
          "shell.execute_reply": "2025-04-07T15:53:12.427261Z"
        },
        "id": "2ff92d38-c1a1-4f47-a03a-4983f951c44a",
        "outputId": "471d3b1e-922f-462c-970c-0f69087146ba"
      },
      "outputs": [
        {
          "name": "stderr",
          "text": "<ipython-input-8-55454a20bbf9>:7: SettingWithCopyWarning: \nA value is trying to be set on a copy of a slice from a DataFrame.\nTry using .loc[row_indexer,col_indexer] = value instead\n\nSee the caveats in the documentation: https://pandas.pydata.org/pandas-docs/stable/user_guide/indexing.html#returning-a-view-versus-a-copy\n  train_stage_1['user_id'] = train_stage_1.user_id.apply(lambda x: user2id[x])\n<ipython-input-8-55454a20bbf9>:8: SettingWithCopyWarning: \nA value is trying to be set on a copy of a slice from a DataFrame.\nTry using .loc[row_indexer,col_indexer] = value instead\n\nSee the caveats in the documentation: https://pandas.pydata.org/pandas-docs/stable/user_guide/indexing.html#returning-a-view-versus-a-copy\n  train_stage_1['item_id'] = train_stage_1.item_id.apply(lambda x: item2id[x])\n",
          "output_type": "stream"
        }
      ],
      "execution_count": null
    },
    {
      "id": "af31d366-09c9-41d5-af73-ed1a70f18435",
      "cell_type": "code",
      "source": [
        "from scipy.sparse import csr_matrix\n",
        "import numpy as np\n",
        "from scipy import sparse as sps\n",
        "\n",
        "matrix = sps.coo_matrix(\n",
        "    (np.ones(train_stage_1.shape[0]), (train_stage_1['user_id'], train_stage_1['item_id'])),\n",
        "    shape=(len(user2id), len(item2id)),\n",
        ")\n",
        "matrix"
      ],
      "metadata": {
        "trusted": true,
        "execution": {
          "iopub.status.busy": "2025-04-07T15:53:12.430183Z",
          "iopub.execute_input": "2025-04-07T15:53:12.430393Z",
          "iopub.status.idle": "2025-04-07T15:53:12.609944Z",
          "shell.execute_reply.started": "2025-04-07T15:53:12.430375Z",
          "shell.execute_reply": "2025-04-07T15:53:12.609223Z"
        },
        "id": "af31d366-09c9-41d5-af73-ed1a70f18435",
        "outputId": "bbbb8a75-436d-4995-8f28-776ddc1ad746"
      },
      "outputs": [
        {
          "execution_count": 9,
          "output_type": "execute_result",
          "data": {
            "text/plain": "<742590x14985 sparse matrix of type '<class 'numpy.float64'>'\n\twith 3893564 stored elements in COOrdinate format>"
          },
          "metadata": {}
        }
      ],
      "execution_count": null
    },
    {
      "id": "a9e35468-c73a-4dda-a0a4-ba2834ef515b",
      "cell_type": "code",
      "source": [
        "def fit_ease(X, reg_weight=100):\n",
        "\n",
        " # gram matrix\n",
        "    G = X.T @ X\n",
        "\n",
        "    # add reg to diagonal\n",
        "    G += reg_weight * sps.identity(G.shape[0])\n",
        "\n",
        "    # convert to dense because inverse will be dense\n",
        "    G = G.todense()\n",
        "\n",
        "    # invert. this takes most of the time\n",
        "    P = np.linalg.inv(G)\n",
        "    B = P / (-np.diag(P))\n",
        "    # zero out diag\n",
        "    np.fill_diagonal(B, 0.)\n",
        "\n",
        "    return B\n",
        "\n",
        "B = fit_ease(matrix)"
      ],
      "metadata": {
        "trusted": true,
        "execution": {
          "iopub.status.busy": "2025-04-07T15:53:12.610954Z",
          "iopub.execute_input": "2025-04-07T15:53:12.611321Z",
          "iopub.status.idle": "2025-04-07T15:54:32.945477Z",
          "shell.execute_reply.started": "2025-04-07T15:53:12.611302Z",
          "shell.execute_reply": "2025-04-07T15:54:32.944579Z"
        },
        "id": "a9e35468-c73a-4dda-a0a4-ba2834ef515b"
      },
      "outputs": [],
      "execution_count": null
    },
    {
      "id": "331317da-55c1-4447-80f3-8b7bc0cb9a00",
      "cell_type": "code",
      "source": [
        "class MyHeuristicModel:\n",
        "    def __init__(self, B, user_item_matrix):\n",
        "        self.B = B\n",
        "        self.user_item_matrix = user_item_matrix\n",
        "\n",
        "    def get_top_k(self, user_id, k=10):\n",
        "        if user_id >= self.user_item_matrix.shape[0]:\n",
        "            return []\n",
        "        user_vector = self.user_item_matrix[user_id]\n",
        "        scores = user_vector @ self.B\n",
        "        scores = np.asarray(scores).ravel()\n",
        "        top_items = np.argsort(-scores)[:k]\n",
        "        return top_items.tolist()\n",
        "\n",
        "    def get_score(self, user_id, item_id):\n",
        "        if user_id >= self.user_item_matrix.shape[0] or item_id >= self.B.shape[0]:\n",
        "            return 0.0\n",
        "        user_vector = self.user_item_matrix[user_id]\n",
        "        score = user_vector @ self.B[:, item_id]\n",
        "        return float(score)"
      ],
      "metadata": {
        "trusted": true,
        "execution": {
          "iopub.status.busy": "2025-04-07T15:54:32.946370Z",
          "iopub.execute_input": "2025-04-07T15:54:32.946617Z",
          "iopub.status.idle": "2025-04-07T15:54:32.952458Z",
          "shell.execute_reply.started": "2025-04-07T15:54:32.946597Z",
          "shell.execute_reply": "2025-04-07T15:54:32.951510Z"
        },
        "id": "331317da-55c1-4447-80f3-8b7bc0cb9a00"
      },
      "outputs": [],
      "execution_count": null
    },
    {
      "id": "f4a78f5d-f458-4093-a17d-851b9c32c1e7",
      "cell_type": "code",
      "source": [
        "model_heuristic = MyHeuristicModel(B, matrix.tocsr())\n",
        "\n",
        "model_heuristic.get_top_k(42, 10)\n",
        "model_heuristic.get_score(42, 1337)"
      ],
      "metadata": {
        "trusted": true,
        "execution": {
          "iopub.status.busy": "2025-04-07T15:54:32.953321Z",
          "iopub.execute_input": "2025-04-07T15:54:32.953606Z",
          "iopub.status.idle": "2025-04-07T15:54:33.163516Z",
          "shell.execute_reply.started": "2025-04-07T15:54:32.953576Z",
          "shell.execute_reply": "2025-04-07T15:54:33.162556Z"
        },
        "id": "f4a78f5d-f458-4093-a17d-851b9c32c1e7",
        "outputId": "0d535574-76ad-4efb-9116-b0d4148d3bd5"
      },
      "outputs": [
        {
          "name": "stderr",
          "text": "<ipython-input-11-cf463457d5a8>:20: DeprecationWarning: Conversion of an array with ndim > 0 to a scalar is deprecated, and will error in future. Ensure you extract a single element from your array before performing this operation. (Deprecated NumPy 1.25.)\n  return float(score)\n",
          "output_type": "stream"
        },
        {
          "execution_count": 12,
          "output_type": "execute_result",
          "data": {
            "text/plain": "-0.0099332635650623"
          },
          "metadata": {}
        }
      ],
      "execution_count": null
    },
    {
      "id": "0e92d113-3434-411a-b114-d2b288a086de",
      "cell_type": "code",
      "source": [
        "!pip install implicit"
      ],
      "metadata": {
        "trusted": true,
        "execution": {
          "iopub.status.busy": "2025-04-07T15:54:33.164550Z",
          "iopub.execute_input": "2025-04-07T15:54:33.165018Z",
          "iopub.status.idle": "2025-04-07T15:54:37.142615Z",
          "shell.execute_reply.started": "2025-04-07T15:54:33.164979Z",
          "shell.execute_reply": "2025-04-07T15:54:37.141770Z"
        },
        "id": "0e92d113-3434-411a-b114-d2b288a086de",
        "outputId": "3d816b54-133b-42d5-a24f-38b87cf75d01"
      },
      "outputs": [
        {
          "name": "stdout",
          "text": "Collecting implicit\n  Downloading implicit-0.7.2-cp310-cp310-manylinux2014_x86_64.whl.metadata (6.1 kB)\nRequirement already satisfied: numpy>=1.17.0 in /usr/local/lib/python3.10/dist-packages (from implicit) (1.26.4)\nRequirement already satisfied: scipy>=0.16 in /usr/local/lib/python3.10/dist-packages (from implicit) (1.13.1)\nRequirement already satisfied: tqdm>=4.27 in /usr/local/lib/python3.10/dist-packages (from implicit) (4.67.1)\nRequirement already satisfied: threadpoolctl in /usr/local/lib/python3.10/dist-packages (from implicit) (3.5.0)\nRequirement already satisfied: mkl_fft in /usr/local/lib/python3.10/dist-packages (from numpy>=1.17.0->implicit) (1.3.8)\nRequirement already satisfied: mkl_random in /usr/local/lib/python3.10/dist-packages (from numpy>=1.17.0->implicit) (1.2.4)\nRequirement already satisfied: mkl_umath in /usr/local/lib/python3.10/dist-packages (from numpy>=1.17.0->implicit) (0.1.1)\nRequirement already satisfied: mkl in /usr/local/lib/python3.10/dist-packages (from numpy>=1.17.0->implicit) (2025.0.1)\nRequirement already satisfied: tbb4py in /usr/local/lib/python3.10/dist-packages (from numpy>=1.17.0->implicit) (2022.0.0)\nRequirement already satisfied: mkl-service in /usr/local/lib/python3.10/dist-packages (from numpy>=1.17.0->implicit) (2.4.1)\nRequirement already satisfied: intel-openmp>=2024 in /usr/local/lib/python3.10/dist-packages (from mkl->numpy>=1.17.0->implicit) (2024.2.0)\nRequirement already satisfied: tbb==2022.* in /usr/local/lib/python3.10/dist-packages (from mkl->numpy>=1.17.0->implicit) (2022.0.0)\nRequirement already satisfied: tcmlib==1.* in /usr/local/lib/python3.10/dist-packages (from tbb==2022.*->mkl->numpy>=1.17.0->implicit) (1.2.0)\nRequirement already satisfied: intel-cmplr-lib-rt in /usr/local/lib/python3.10/dist-packages (from mkl_umath->numpy>=1.17.0->implicit) (2024.2.0)\nRequirement already satisfied: intel-cmplr-lib-ur==2024.2.0 in /usr/local/lib/python3.10/dist-packages (from intel-openmp>=2024->mkl->numpy>=1.17.0->implicit) (2024.2.0)\nDownloading implicit-0.7.2-cp310-cp310-manylinux2014_x86_64.whl (8.9 MB)\n\u001b[2K   \u001b[90m━━━━━━━━━━━━━━━━━━━━━━━━━━━━━━━━━━━━━━━━\u001b[0m \u001b[32m8.9/8.9 MB\u001b[0m \u001b[31m61.8 MB/s\u001b[0m eta \u001b[36m0:00:00\u001b[0m00:01\u001b[0m00:01\u001b[0m\n\u001b[?25hInstalling collected packages: implicit\nSuccessfully installed implicit-0.7.2\n",
          "output_type": "stream"
        }
      ],
      "execution_count": null
    },
    {
      "id": "ca0e748f-611f-4e12-98b9-1797dbd1e3b4",
      "cell_type": "code",
      "source": [
        "#from implicit.als import AlternatingLeastSquares\n",
        "\n",
        "#model = AlternatingLeastSquares(factors=64, iterations=20)\n",
        "#model.fit(matrix.T)"
      ],
      "metadata": {
        "trusted": true,
        "execution": {
          "iopub.status.busy": "2025-04-07T15:54:37.143493Z",
          "iopub.execute_input": "2025-04-07T15:54:37.143720Z",
          "iopub.status.idle": "2025-04-07T15:54:37.147046Z",
          "shell.execute_reply.started": "2025-04-07T15:54:37.143699Z",
          "shell.execute_reply": "2025-04-07T15:54:37.146294Z"
        },
        "id": "ca0e748f-611f-4e12-98b9-1797dbd1e3b4"
      },
      "outputs": [],
      "execution_count": null
    },
    {
      "id": "26d135e9-f159-4325-a6da-77b3d4ef3068",
      "cell_type": "code",
      "source": [
        "class MyMatrixFactorization:\n",
        "    def __init__(self, model, user_item_matrix):\n",
        "        self.model = model\n",
        "        self.user_item_matrix = user_item_matrix\n",
        "\n",
        "    def get_score(self, user_id, item_id):\n",
        "        if user_id >= self.user_item_matrix.shape[0] or item_id >= self.user_item_matrix.shape[1]:\n",
        "            return 0.0\n",
        "        try:\n",
        "            return self.model.predict(user_id, item_id)\n",
        "        except:\n",
        "            return 0.0\n",
        "\n",
        "    def get_top_k(self, user_id, k=10):\n",
        "        if user_id >= self.user_item_matrix.shape[0]:\n",
        "            return []\n",
        "        try:\n",
        "            ids, _ = self.model.recommend(\n",
        "                userid=user_id,\n",
        "                user_items=self.user_item_matrix[user_id],\n",
        "                N=k,\n",
        "                filter_already_liked_items=False\n",
        "            )\n",
        "            return ids.tolist()\n",
        "        except:\n",
        "            return []"
      ],
      "metadata": {
        "trusted": true,
        "execution": {
          "iopub.status.busy": "2025-04-07T15:54:37.147887Z",
          "iopub.execute_input": "2025-04-07T15:54:37.148182Z",
          "iopub.status.idle": "2025-04-07T15:54:37.159387Z",
          "shell.execute_reply.started": "2025-04-07T15:54:37.148153Z",
          "shell.execute_reply": "2025-04-07T15:54:37.158596Z"
        },
        "id": "26d135e9-f159-4325-a6da-77b3d4ef3068"
      },
      "outputs": [],
      "execution_count": null
    },
    {
      "id": "95d26bf5-6500-4ed5-809b-f3ab9cfa42ed",
      "cell_type": "code",
      "source": [
        "from implicit.als import AlternatingLeastSquares\n",
        "\n",
        "model_als_raw = AlternatingLeastSquares(factors=64, iterations=10)\n",
        "model_als_raw.fit(matrix.T)\n",
        "\n",
        "model_ials = MyMatrixFactorization(model=model_als_raw, user_item_matrix=matrix.tocsr())"
      ],
      "metadata": {
        "trusted": true,
        "execution": {
          "iopub.status.busy": "2025-04-07T15:54:37.160294Z",
          "iopub.execute_input": "2025-04-07T15:54:37.160564Z",
          "iopub.status.idle": "2025-04-07T15:54:57.160176Z",
          "shell.execute_reply.started": "2025-04-07T15:54:37.160538Z",
          "shell.execute_reply": "2025-04-07T15:54:57.159489Z"
        },
        "colab": {
          "referenced_widgets": [
            "1bd59c80c8714a2d86155bb801c97a29"
          ]
        },
        "id": "95d26bf5-6500-4ed5-809b-f3ab9cfa42ed",
        "outputId": "cff53bb8-f027-4da3-b0ae-7ff15f4b2849"
      },
      "outputs": [
        {
          "name": "stderr",
          "text": "/usr/local/lib/python3.10/dist-packages/implicit/cpu/als.py:95: RuntimeWarning: Intel MKL BLAS is configured to use 2 threads. It is highly recommended to disable its internal threadpool by setting the environment variable 'MKL_NUM_THREADS=1' or by callng 'threadpoolctl.threadpool_limits(1, \"blas\")'. Having MKL use a threadpool can lead to severe performance issues\n  check_blas_config()\n/usr/local/lib/python3.10/dist-packages/implicit/cpu/als.py:95: RuntimeWarning: OpenBLAS is configured to use 4 threads. It is highly recommended to disable its internal threadpool by setting the environment variable 'OPENBLAS_NUM_THREADS=1' or by calling 'threadpoolctl.threadpool_limits(1, \"blas\")'. Having OpenBLAS use a threadpool can lead to severe performance issues here.\n  check_blas_config()\n/usr/local/lib/python3.10/dist-packages/implicit/utils.py:164: ParameterWarning: Method expects CSR input, and was passed coo_matrix instead. Converting to CSR took 0.2817046642303467 seconds\n  warnings.warn(\n",
          "output_type": "stream"
        },
        {
          "output_type": "display_data",
          "data": {
            "text/plain": "  0%|          | 0/10 [00:00<?, ?it/s]",
            "application/vnd.jupyter.widget-view+json": {
              "version_major": 2,
              "version_minor": 0,
              "model_id": "1bd59c80c8714a2d86155bb801c97a29"
            }
          },
          "metadata": {}
        }
      ],
      "execution_count": null
    },
    {
      "id": "a05b48cf-15df-40aa-b917-c50425d7f632",
      "cell_type": "code",
      "source": [
        "model_ials.get_score(42, 1337)\n",
        "model_ials.get_top_k(42, 10)"
      ],
      "metadata": {
        "trusted": true,
        "execution": {
          "iopub.status.busy": "2025-04-07T15:54:57.161283Z",
          "iopub.execute_input": "2025-04-07T15:54:57.162121Z",
          "iopub.status.idle": "2025-04-07T15:54:57.188694Z",
          "shell.execute_reply.started": "2025-04-07T15:54:57.162084Z",
          "shell.execute_reply": "2025-04-07T15:54:57.187995Z"
        },
        "id": "a05b48cf-15df-40aa-b917-c50425d7f632",
        "outputId": "514f6b3a-3d0a-4924-d1f6-9448f8e34354"
      },
      "outputs": [
        {
          "execution_count": 17,
          "output_type": "execute_result",
          "data": {
            "text/plain": "[11809, 110573, 39669, 816, 4327, 56081, 28128, 18306, 27422, 6853]"
          },
          "metadata": {}
        }
      ],
      "execution_count": null
    },
    {
      "id": "3c0e0062-ecb3-4786-9b44-940e4eccfdc8",
      "cell_type": "code",
      "source": [
        "!pip install recbole --upgrade"
      ],
      "metadata": {
        "trusted": true,
        "execution": {
          "iopub.status.busy": "2025-04-07T15:54:57.189421Z",
          "iopub.execute_input": "2025-04-07T15:54:57.189663Z",
          "iopub.status.idle": "2025-04-07T15:55:09.260227Z",
          "shell.execute_reply.started": "2025-04-07T15:54:57.189641Z",
          "shell.execute_reply": "2025-04-07T15:55:09.259194Z"
        },
        "id": "3c0e0062-ecb3-4786-9b44-940e4eccfdc8",
        "outputId": "64bbf9bc-a272-4e05-a367-e9a2a8d45153"
      },
      "outputs": [
        {
          "name": "stdout",
          "text": "Collecting recbole\n  Downloading recbole-1.2.1-py3-none-any.whl.metadata (1.4 kB)\nRequirement already satisfied: torch>=1.10.0 in /usr/local/lib/python3.10/dist-packages (from recbole) (2.5.1+cu121)\nRequirement already satisfied: numpy>=1.17.2 in /usr/local/lib/python3.10/dist-packages (from recbole) (1.26.4)\nRequirement already satisfied: scipy>=1.6.0 in /usr/local/lib/python3.10/dist-packages (from recbole) (1.13.1)\nRequirement already satisfied: pandas>=1.3.0 in /usr/local/lib/python3.10/dist-packages (from recbole) (2.2.3)\nRequirement already satisfied: tqdm>=4.48.2 in /usr/local/lib/python3.10/dist-packages (from recbole) (4.67.1)\nCollecting colorlog==4.7.2 (from recbole)\n  Downloading colorlog-4.7.2-py2.py3-none-any.whl.metadata (9.9 kB)\nCollecting colorama==0.4.4 (from recbole)\n  Downloading colorama-0.4.4-py2.py3-none-any.whl.metadata (14 kB)\nRequirement already satisfied: scikit-learn>=0.23.2 in /usr/local/lib/python3.10/dist-packages (from recbole) (1.2.2)\nRequirement already satisfied: pyyaml>=5.1.0 in /usr/local/lib/python3.10/dist-packages (from recbole) (6.0.2)\nRequirement already satisfied: tensorboard>=2.5.0 in /usr/local/lib/python3.10/dist-packages (from recbole) (2.17.1)\nCollecting thop>=0.1.1.post2207130030 (from recbole)\n  Downloading thop-0.1.1.post2209072238-py3-none-any.whl.metadata (2.7 kB)\nRequirement already satisfied: tabulate>=0.8.10 in /usr/local/lib/python3.10/dist-packages (from recbole) (0.9.0)\nRequirement already satisfied: plotly>=4.0.0 in /usr/local/lib/python3.10/dist-packages (from recbole) (5.24.1)\nRequirement already satisfied: texttable>=0.9.0 in /usr/local/lib/python3.10/dist-packages (from recbole) (1.7.0)\nRequirement already satisfied: psutil>=5.9.0 in /usr/local/lib/python3.10/dist-packages (from recbole) (5.9.5)\nCollecting ray<=2.6.3,>=1.13.0 (from recbole)\n  Downloading ray-2.6.3-cp310-cp310-manylinux2014_x86_64.whl.metadata (12 kB)\nRequirement already satisfied: mkl_fft in /usr/local/lib/python3.10/dist-packages (from numpy>=1.17.2->recbole) (1.3.8)\nRequirement already satisfied: mkl_random in /usr/local/lib/python3.10/dist-packages (from numpy>=1.17.2->recbole) (1.2.4)\nRequirement already satisfied: mkl_umath in /usr/local/lib/python3.10/dist-packages (from numpy>=1.17.2->recbole) (0.1.1)\nRequirement already satisfied: mkl in /usr/local/lib/python3.10/dist-packages (from numpy>=1.17.2->recbole) (2025.0.1)\nRequirement already satisfied: tbb4py in /usr/local/lib/python3.10/dist-packages (from numpy>=1.17.2->recbole) (2022.0.0)\nRequirement already satisfied: mkl-service in /usr/local/lib/python3.10/dist-packages (from numpy>=1.17.2->recbole) (2.4.1)\nRequirement already satisfied: python-dateutil>=2.8.2 in /usr/local/lib/python3.10/dist-packages (from pandas>=1.3.0->recbole) (2.9.0.post0)\nRequirement already satisfied: pytz>=2020.1 in /usr/local/lib/python3.10/dist-packages (from pandas>=1.3.0->recbole) (2025.1)\nRequirement already satisfied: tzdata>=2022.7 in /usr/local/lib/python3.10/dist-packages (from pandas>=1.3.0->recbole) (2025.1)\nRequirement already satisfied: tenacity>=6.2.0 in /usr/local/lib/python3.10/dist-packages (from plotly>=4.0.0->recbole) (9.0.0)\nRequirement already satisfied: packaging in /usr/local/lib/python3.10/dist-packages (from plotly>=4.0.0->recbole) (24.2)\nRequirement already satisfied: click>=7.0 in /usr/local/lib/python3.10/dist-packages (from ray<=2.6.3,>=1.13.0->recbole) (8.1.7)\nRequirement already satisfied: filelock in /usr/local/lib/python3.10/dist-packages (from ray<=2.6.3,>=1.13.0->recbole) (3.17.0)\nRequirement already satisfied: jsonschema in /usr/local/lib/python3.10/dist-packages (from ray<=2.6.3,>=1.13.0->recbole) (4.23.0)\nRequirement already satisfied: msgpack<2.0.0,>=1.0.0 in /usr/local/lib/python3.10/dist-packages (from ray<=2.6.3,>=1.13.0->recbole) (1.1.0)\nRequirement already satisfied: protobuf!=3.19.5,>=3.15.3 in /usr/local/lib/python3.10/dist-packages (from ray<=2.6.3,>=1.13.0->recbole) (3.20.3)\nRequirement already satisfied: aiosignal in /usr/local/lib/python3.10/dist-packages (from ray<=2.6.3,>=1.13.0->recbole) (1.3.2)\nRequirement already satisfied: frozenlist in /usr/local/lib/python3.10/dist-packages (from ray<=2.6.3,>=1.13.0->recbole) (1.5.0)\nRequirement already satisfied: requests in /usr/local/lib/python3.10/dist-packages (from ray<=2.6.3,>=1.13.0->recbole) (2.32.3)\nRequirement already satisfied: grpcio>=1.42.0 in /usr/local/lib/python3.10/dist-packages (from ray<=2.6.3,>=1.13.0->recbole) (1.68.1)\nRequirement already satisfied: joblib>=1.1.1 in /usr/local/lib/python3.10/dist-packages (from scikit-learn>=0.23.2->recbole) (1.4.2)\nRequirement already satisfied: threadpoolctl>=2.0.0 in /usr/local/lib/python3.10/dist-packages (from scikit-learn>=0.23.2->recbole) (3.5.0)\nRequirement already satisfied: absl-py>=0.4 in /usr/local/lib/python3.10/dist-packages (from tensorboard>=2.5.0->recbole) (1.4.0)\nRequirement already satisfied: markdown>=2.6.8 in /usr/local/lib/python3.10/dist-packages (from tensorboard>=2.5.0->recbole) (3.7)\nRequirement already satisfied: setuptools>=41.0.0 in /usr/local/lib/python3.10/dist-packages (from tensorboard>=2.5.0->recbole) (75.1.0)\nRequirement already satisfied: six>1.9 in /usr/local/lib/python3.10/dist-packages (from tensorboard>=2.5.0->recbole) (1.17.0)\nRequirement already satisfied: tensorboard-data-server<0.8.0,>=0.7.0 in /usr/local/lib/python3.10/dist-packages (from tensorboard>=2.5.0->recbole) (0.7.2)\nRequirement already satisfied: werkzeug>=1.0.1 in /usr/local/lib/python3.10/dist-packages (from tensorboard>=2.5.0->recbole) (3.1.3)\nRequirement already satisfied: typing-extensions>=4.8.0 in /usr/local/lib/python3.10/dist-packages (from torch>=1.10.0->recbole) (4.12.2)\nRequirement already satisfied: networkx in /usr/local/lib/python3.10/dist-packages (from torch>=1.10.0->recbole) (3.4.2)\nRequirement already satisfied: jinja2 in /usr/local/lib/python3.10/dist-packages (from torch>=1.10.0->recbole) (3.1.4)\nRequirement already satisfied: fsspec in /usr/local/lib/python3.10/dist-packages (from torch>=1.10.0->recbole) (2024.12.0)\nRequirement already satisfied: sympy==1.13.1 in /usr/local/lib/python3.10/dist-packages (from torch>=1.10.0->recbole) (1.13.1)\nRequirement already satisfied: mpmath<1.4,>=1.1.0 in /usr/local/lib/python3.10/dist-packages (from sympy==1.13.1->torch>=1.10.0->recbole) (1.3.0)\nRequirement already satisfied: MarkupSafe>=2.1.1 in /usr/local/lib/python3.10/dist-packages (from werkzeug>=1.0.1->tensorboard>=2.5.0->recbole) (3.0.2)\nRequirement already satisfied: attrs>=22.2.0 in /usr/local/lib/python3.10/dist-packages (from jsonschema->ray<=2.6.3,>=1.13.0->recbole) (25.1.0)\nRequirement already satisfied: jsonschema-specifications>=2023.03.6 in /usr/local/lib/python3.10/dist-packages (from jsonschema->ray<=2.6.3,>=1.13.0->recbole) (2024.10.1)\nRequirement already satisfied: referencing>=0.28.4 in /usr/local/lib/python3.10/dist-packages (from jsonschema->ray<=2.6.3,>=1.13.0->recbole) (0.35.1)\nRequirement already satisfied: rpds-py>=0.7.1 in /usr/local/lib/python3.10/dist-packages (from jsonschema->ray<=2.6.3,>=1.13.0->recbole) (0.22.3)\nRequirement already satisfied: intel-openmp>=2024 in /usr/local/lib/python3.10/dist-packages (from mkl->numpy>=1.17.2->recbole) (2024.2.0)\nRequirement already satisfied: tbb==2022.* in /usr/local/lib/python3.10/dist-packages (from mkl->numpy>=1.17.2->recbole) (2022.0.0)\nRequirement already satisfied: tcmlib==1.* in /usr/local/lib/python3.10/dist-packages (from tbb==2022.*->mkl->numpy>=1.17.2->recbole) (1.2.0)\nRequirement already satisfied: intel-cmplr-lib-rt in /usr/local/lib/python3.10/dist-packages (from mkl_umath->numpy>=1.17.2->recbole) (2024.2.0)\nRequirement already satisfied: charset-normalizer<4,>=2 in /usr/local/lib/python3.10/dist-packages (from requests->ray<=2.6.3,>=1.13.0->recbole) (3.4.1)\nRequirement already satisfied: idna<4,>=2.5 in /usr/local/lib/python3.10/dist-packages (from requests->ray<=2.6.3,>=1.13.0->recbole) (3.10)\nRequirement already satisfied: urllib3<3,>=1.21.1 in /usr/local/lib/python3.10/dist-packages (from requests->ray<=2.6.3,>=1.13.0->recbole) (2.3.0)\nRequirement already satisfied: certifi>=2017.4.17 in /usr/local/lib/python3.10/dist-packages (from requests->ray<=2.6.3,>=1.13.0->recbole) (2025.1.31)\nRequirement already satisfied: intel-cmplr-lib-ur==2024.2.0 in /usr/local/lib/python3.10/dist-packages (from intel-openmp>=2024->mkl->numpy>=1.17.2->recbole) (2024.2.0)\nDownloading recbole-1.2.1-py3-none-any.whl (2.1 MB)\n\u001b[2K   \u001b[90m━━━━━━━━━━━━━━━━━━━━━━━━━━━━━━━━━━━━━━━━\u001b[0m \u001b[32m2.1/2.1 MB\u001b[0m \u001b[31m29.2 MB/s\u001b[0m eta \u001b[36m0:00:00\u001b[0m00:01\u001b[0m00:01\u001b[0m\n\u001b[?25hDownloading colorama-0.4.4-py2.py3-none-any.whl (16 kB)\nDownloading colorlog-4.7.2-py2.py3-none-any.whl (10 kB)\nDownloading ray-2.6.3-cp310-cp310-manylinux2014_x86_64.whl (56.9 MB)\n\u001b[2K   \u001b[90m━━━━━━━━━━━━━━━━━━━━━━━━━━━━━━━━━━━━━━━━\u001b[0m \u001b[32m56.9/56.9 MB\u001b[0m \u001b[31m31.7 MB/s\u001b[0m eta \u001b[36m0:00:00\u001b[0m:00:01\u001b[0m00:01\u001b[0m\n\u001b[?25hDownloading thop-0.1.1.post2209072238-py3-none-any.whl (15 kB)\nInstalling collected packages: colorlog, colorama, thop, ray, recbole\n  Attempting uninstall: colorlog\n    Found existing installation: colorlog 6.9.0\n    Uninstalling colorlog-6.9.0:\n      Successfully uninstalled colorlog-6.9.0\n  Attempting uninstall: colorama\n    Found existing installation: colorama 0.4.6\n    Uninstalling colorama-0.4.6:\n      Successfully uninstalled colorama-0.4.6\n  Attempting uninstall: ray\n    Found existing installation: ray 2.42.1\n    Uninstalling ray-2.42.1:\n      Successfully uninstalled ray-2.42.1\n\u001b[31mERROR: pip's dependency resolver does not currently take into account all the packages that are installed. This behaviour is the source of the following dependency conflicts.\nbayesian-optimization 2.0.3 requires colorama<0.5.0,>=0.4.6, but you have colorama 0.4.4 which is incompatible.\u001b[0m\u001b[31m\n\u001b[0mSuccessfully installed colorama-0.4.4 colorlog-4.7.2 ray-2.6.3 recbole-1.2.1 thop-0.1.1.post2209072238\n",
          "output_type": "stream"
        }
      ],
      "execution_count": null
    },
    {
      "id": "b0a6ac06-a144-4149-b5c4-d85cba52e3d4",
      "cell_type": "code",
      "source": [
        "from recbole.model.general_recommender.neumf import NeuMF"
      ],
      "metadata": {
        "trusted": true,
        "execution": {
          "iopub.status.busy": "2025-04-07T15:55:09.261380Z",
          "iopub.execute_input": "2025-04-07T15:55:09.261703Z",
          "iopub.status.idle": "2025-04-07T15:55:26.118299Z",
          "shell.execute_reply.started": "2025-04-07T15:55:09.261672Z",
          "shell.execute_reply": "2025-04-07T15:55:26.117339Z"
        },
        "id": "b0a6ac06-a144-4149-b5c4-d85cba52e3d4"
      },
      "outputs": [],
      "execution_count": null
    },
    {
      "id": "00841ccb-7cd6-452e-be8d-aa153e7911b1",
      "cell_type": "code",
      "source": [
        "!mkdir -p dataset/train_ncf_data"
      ],
      "metadata": {
        "trusted": true,
        "execution": {
          "iopub.status.busy": "2025-04-07T15:55:26.119348Z",
          "iopub.execute_input": "2025-04-07T15:55:26.120055Z",
          "iopub.status.idle": "2025-04-07T15:55:26.276783Z",
          "shell.execute_reply.started": "2025-04-07T15:55:26.120024Z",
          "shell.execute_reply": "2025-04-07T15:55:26.275600Z"
        },
        "id": "00841ccb-7cd6-452e-be8d-aa153e7911b1"
      },
      "outputs": [],
      "execution_count": null
    },
    {
      "id": "64202bf4-4904-417e-93cb-d75dadcdc4b0",
      "cell_type": "code",
      "source": [
        "train_ncf = train_stage_1[['user_id', 'item_id']].copy()\n",
        "train_ncf['rating'] = 1\n",
        "\n",
        "with open('dataset/train_ncf_data/train_ncf_data.inter', 'w') as f:\n",
        "    f.write('user_id:token\\titem_id:token\\trating:float\\n')\n",
        "    for row in train_ncf.itertuples(index=False):\n",
        "        f.write(f'{row.user_id}\\t{row.item_id}\\t{row.rating}\\n')"
      ],
      "metadata": {
        "trusted": true,
        "execution": {
          "iopub.status.busy": "2025-04-07T15:55:30.482741Z",
          "iopub.execute_input": "2025-04-07T15:55:30.483076Z",
          "iopub.status.idle": "2025-04-07T15:55:34.601627Z",
          "shell.execute_reply.started": "2025-04-07T15:55:30.483050Z",
          "shell.execute_reply": "2025-04-07T15:55:34.600933Z"
        },
        "id": "64202bf4-4904-417e-93cb-d75dadcdc4b0"
      },
      "outputs": [],
      "execution_count": null
    },
    {
      "id": "3ec22026-88a9-4c38-8440-4d65d7390c95",
      "cell_type": "code",
      "source": [
        "from recbole.model.abstract_recommender import GeneralRecommender\n",
        "from recbole.utils import init_seed, init_logger\n",
        "from recbole.config import Config\n",
        "from recbole.data import create_dataset, data_preparation\n",
        "from recbole.trainer import Trainer\n",
        "from recbole.utils import get_model\n",
        "\n",
        "config_dict = {\n",
        "    'model': 'NeuMF',\n",
        "    'dataset': 'train_ncf_data',\n",
        "    'field_separator': '\\t',\n",
        "    'USER_ID_FIELD': 'user_id',\n",
        "    'ITEM_ID_FIELD': 'item_id',\n",
        "    'RATING_FIELD': 'rating',\n",
        "    'load_col': {'inter': ['user_id', 'item_id', 'rating']},\n",
        "    'train_neg_sample_args': {'strategy': 'by', 'by': 'popularity', 'neg_sampling': None},\n",
        "    'metrics': ['Recall', 'NDCG'],\n",
        "    'valid_metric': 'Recall@10',\n",
        "    'topk': 10,\n",
        "    'learning_rate': 0.001,\n",
        "    'epochs': 10,\n",
        "    'train_batch_size': 4096,\n",
        "    'eval_batch_size': 8192,\n",
        "    'embedding_size': 64,\n",
        "    'reproducibility': True,\n",
        "    'device': 'cuda',\n",
        "}\n",
        "\n",
        "config = Config(model='NeuMF', dataset='train_ncf_data', config_dict=config_dict)\n",
        "dataset = create_dataset(config)\n",
        "train_data, valid_data, _ = data_preparation(config, dataset)\n",
        "\n",
        "init_seed(config['seed'], config['reproducibility'])\n",
        "init_logger(config)\n",
        "\n",
        "dataset = create_dataset(config)\n",
        "train_data, valid_data, _ = data_preparation(config, dataset)\n",
        "\n",
        "model_class = get_model(config['model'])\n",
        "model = model_class(config, train_data.dataset).to(config['device'])\n",
        "\n",
        "trainer = Trainer(config, model)\n",
        "best_valid_score, best_valid_result = trainer.fit(train_data, valid_data)"
      ],
      "metadata": {
        "trusted": true,
        "execution": {
          "iopub.status.busy": "2025-04-07T15:55:36.310417Z",
          "iopub.execute_input": "2025-04-07T15:55:36.310762Z",
          "iopub.status.idle": "2025-04-07T17:43:35.737013Z",
          "shell.execute_reply.started": "2025-04-07T15:55:36.310732Z",
          "shell.execute_reply": "2025-04-07T17:43:35.736029Z"
        },
        "id": "3ec22026-88a9-4c38-8440-4d65d7390c95",
        "outputId": "d5af86e6-1db7-4b4f-fbb9-95d284af793d"
      },
      "outputs": [
        {
          "name": "stderr",
          "text": "/usr/local/lib/python3.10/dist-packages/recbole/data/dataset/dataset.py:648: FutureWarning: A value is trying to be set on a copy of a DataFrame or Series through chained assignment using an inplace method.\nThe behavior will change in pandas 3.0. This inplace method will never work because the intermediate object on which we are setting values always behaves as a copy.\n\nFor example, when doing 'df[col].method(value, inplace=True)', try using 'df.method({col: value}, inplace=True)' or df[col] = df[col].method(value) instead, to perform the operation inplace on the original object.\n\n\n  feat[field].fillna(value=0, inplace=True)\n/usr/local/lib/python3.10/dist-packages/recbole/data/dataset/dataset.py:650: FutureWarning: A value is trying to be set on a copy of a DataFrame or Series through chained assignment using an inplace method.\nThe behavior will change in pandas 3.0. This inplace method will never work because the intermediate object on which we are setting values always behaves as a copy.\n\nFor example, when doing 'df[col].method(value, inplace=True)', try using 'df.method({col: value}, inplace=True)' or df[col] = df[col].method(value) instead, to perform the operation inplace on the original object.\n\n\n  feat[field].fillna(value=feat[field].mean(), inplace=True)\n/usr/local/lib/python3.10/dist-packages/recbole/data/dataset/dataset.py:648: FutureWarning: A value is trying to be set on a copy of a DataFrame or Series through chained assignment using an inplace method.\nThe behavior will change in pandas 3.0. This inplace method will never work because the intermediate object on which we are setting values always behaves as a copy.\n\nFor example, when doing 'df[col].method(value, inplace=True)', try using 'df.method({col: value}, inplace=True)' or df[col] = df[col].method(value) instead, to perform the operation inplace on the original object.\n\n\n  feat[field].fillna(value=0, inplace=True)\n/usr/local/lib/python3.10/dist-packages/recbole/data/dataset/dataset.py:650: FutureWarning: A value is trying to be set on a copy of a DataFrame or Series through chained assignment using an inplace method.\nThe behavior will change in pandas 3.0. This inplace method will never work because the intermediate object on which we are setting values always behaves as a copy.\n\nFor example, when doing 'df[col].method(value, inplace=True)', try using 'df.method({col: value}, inplace=True)' or df[col] = df[col].method(value) instead, to perform the operation inplace on the original object.\n\n\n  feat[field].fillna(value=feat[field].mean(), inplace=True)\n/usr/local/lib/python3.10/dist-packages/recbole/trainer/trainer.py:235: FutureWarning: `torch.cuda.amp.GradScaler(args...)` is deprecated. Please use `torch.amp.GradScaler('cuda', args...)` instead.\n  scaler = amp.GradScaler(enabled=self.enable_scaler)\n",
          "output_type": "stream"
        }
      ],
      "execution_count": null
    },
    {
      "id": "0f8db2de-fa96-410e-8579-9536dfe7fb36",
      "cell_type": "code",
      "source": [
        "class MyNCFModel:\n",
        "    def __init__(self, model, user2id, item2id, id2item, device='cpu'):\n",
        "        self.model = model\n",
        "        self.user2id = user2id\n",
        "        self.item2id = item2id\n",
        "        self.id2item = id2item\n",
        "        self.device = device\n",
        "        self.all_items = list(item2id.values())\n",
        "\n",
        "    def get_top_k(self, user_id, k=10, user_interactions=None):\n",
        "        if user_id not in self.user2id:\n",
        "            return []\n",
        "\n",
        "        user_idx = self.user2id[user_id]\n",
        "        interacted = [str(t[0]) for t in user_interactions if str(t[0]) in self.item2id] if user_interactions else []\n",
        "        interacted_ids = [self.item2id[i] for i in interacted]\n",
        "\n",
        "        user_tensor = torch.LongTensor([user_idx] * len(self.all_items)).to(self.device)\n",
        "        item_tensor = torch.LongTensor(self.all_items).to(self.device)\n",
        "\n",
        "        self.model.eval()\n",
        "        with torch.no_grad():\n",
        "            scores = self.model.predict({'user_id': user_tensor, 'item_id': item_tensor}).cpu().numpy()\n",
        "\n",
        "        if interacted_ids:\n",
        "            scores[interacted_ids] = -np.inf\n",
        "\n",
        "        top_indices = np.argsort(-scores)[:k]\n",
        "        return [int(self.id2item[i]) for i in top_indices if i in self.id2item]\n",
        "\n",
        "    def get_score(self, user_id, item_id):\n",
        "        if user_id not in self.user2id or item_id not in self.item2id:\n",
        "            return 0.0\n",
        "\n",
        "        user_idx = torch.LongTensor([self.user2id[user_id]]).to(self.device)\n",
        "        item_idx = torch.LongTensor([self.item2id[item_id]]).to(self.device)\n",
        "\n",
        "        self.model.eval()\n",
        "        with torch.no_grad():\n",
        "            score = self.model.predict({'user_id': user_idx, 'item_id': item_idx}).cpu().item()\n",
        "\n",
        "        return score"
      ],
      "metadata": {
        "trusted": true,
        "execution": {
          "iopub.status.busy": "2025-04-07T18:01:59.207844Z",
          "iopub.execute_input": "2025-04-07T18:01:59.208609Z",
          "iopub.status.idle": "2025-04-07T18:01:59.217307Z",
          "shell.execute_reply.started": "2025-04-07T18:01:59.208576Z",
          "shell.execute_reply": "2025-04-07T18:01:59.216540Z"
        },
        "id": "0f8db2de-fa96-410e-8579-9536dfe7fb36"
      },
      "outputs": [],
      "execution_count": null
    },
    {
      "id": "4335f5ab-b617-4c4d-9db8-95d4185ac059",
      "cell_type": "code",
      "source": [
        "import torch"
      ],
      "metadata": {
        "trusted": true,
        "execution": {
          "iopub.status.busy": "2025-04-07T18:16:29.782855Z",
          "iopub.execute_input": "2025-04-07T18:16:29.783166Z",
          "iopub.status.idle": "2025-04-07T18:16:29.787039Z",
          "shell.execute_reply.started": "2025-04-07T18:16:29.783143Z",
          "shell.execute_reply": "2025-04-07T18:16:29.785988Z"
        },
        "id": "4335f5ab-b617-4c4d-9db8-95d4185ac059"
      },
      "outputs": [],
      "execution_count": null
    },
    {
      "id": "9e7652e9-0437-4e7b-aae2-43df66a75710",
      "cell_type": "code",
      "source": [
        "train_stage_1_copy = train_stage_1.copy()  # без apply(user2id[x])\n",
        "\n",
        "user2id_raw = {str(k): v for v, k in enumerate(train_stage_1_copy.user_id.unique())}\n",
        "item2id_raw = {str(k): v for v, k in enumerate(train_stage_1_copy.item_id.unique())}\n",
        "id2item_raw = {v: k for k, v in item2id_raw.items()}\n",
        "\n",
        "# передаёшь в модель:\n",
        "model_ncf = MyNCFModel(\n",
        "    model=model,\n",
        "    user2id=user2id_raw,\n",
        "    item2id=item2id_raw,\n",
        "    id2item=id2item_raw,\n",
        "    device='cuda'\n",
        ")"
      ],
      "metadata": {
        "trusted": true,
        "execution": {
          "iopub.status.busy": "2025-04-07T18:16:31.715462Z",
          "iopub.execute_input": "2025-04-07T18:16:31.715759Z",
          "iopub.status.idle": "2025-04-07T18:16:32.380452Z",
          "shell.execute_reply.started": "2025-04-07T18:16:31.715736Z",
          "shell.execute_reply": "2025-04-07T18:16:32.379708Z"
        },
        "id": "9e7652e9-0437-4e7b-aae2-43df66a75710"
      },
      "outputs": [],
      "execution_count": null
    },
    {
      "id": "0a2991a7-fd4d-468b-86b6-91cc2d951f87",
      "cell_type": "code",
      "source": [
        "model_ncf.get_top_k('42', k=10, user_interactions=[(3734, '2021-07-22')])"
      ],
      "metadata": {
        "trusted": true,
        "id": "0a2991a7-fd4d-468b-86b6-91cc2d951f87"
      },
      "outputs": [],
      "execution_count": null
    },
    {
      "id": "f0606b0c-b38f-4566-8640-b26ff545c92a",
      "cell_type": "code",
      "source": [
        "from tqdm import tqdm\n",
        "\n",
        "all_rows = []\n",
        "\n",
        "for user_orig in tqdm(valid_histories.keys()):\n",
        "    user_idx = user2id.get(user_orig)\n",
        "    if user_idx is None:\n",
        "        continue\n",
        "\n",
        "    train_items_orig = train_histories.get(user_orig, [])\n",
        "    valid_items_orig = set(valid_histories.get(user_orig, []))\n",
        "    train_items_with_dummy_time = [(item, '') for item in train_items_orig]\n",
        "    num_interactions = len(train_items_orig)\n",
        "\n",
        "    try:\n",
        "        cands_ease_idx = model_heuristic.get_top_k(user_idx, k=50)\n",
        "        cands_ials_idx = model_ials.get_top_k(user_idx, k=50)\n",
        "        cands_ncf = model_ncf.get_top_k(str(user_orig), k=50, user_interactions=train_items_with_dummy_time)\n",
        "    except:\n",
        "        continue\n",
        "\n",
        "    cands_ease = [id2item[i] for i in cands_ease_idx if i in id2item]\n",
        "    cands_ials = [id2item[i] for i in cands_ials_idx if i in id2item]\n",
        "\n",
        "    all_candidates = set(cands_ease) | set(cands_ials) | set(cands_ncf)\n",
        "    item_idx_map = {item: item2id[item] for item in all_candidates if item in item2id}\n",
        "\n",
        "    for item_orig, item_idx in item_idx_map.items():\n",
        "        try:\n",
        "            score_ease = model_heuristic.get_score(user_idx, item_idx)\n",
        "            score_ials = model_ials.get_score(user_idx, item_idx)\n",
        "            score_ncf = model_ncf.get_score(str(user_orig), str(item_orig))\n",
        "        except:\n",
        "            continue\n",
        "\n",
        "        label = int(item_orig in valid_items_orig)\n",
        "        all_rows.append((user_orig, item_orig, score_ease, score_ials, score_ncf, label, num_interactions))"
      ],
      "metadata": {
        "trusted": true,
        "execution": {
          "iopub.status.busy": "2025-04-07T18:19:07.820509Z",
          "iopub.execute_input": "2025-04-07T18:19:07.820801Z"
        },
        "id": "f0606b0c-b38f-4566-8640-b26ff545c92a",
        "outputId": "5c49dc99-fb11-4372-def3-ca87cbf5f33a"
      },
      "outputs": [
        {
          "name": "stderr",
          "text": "  0%|          | 0/292033 [00:00<?, ?it/s]<ipython-input-11-cf463457d5a8>:20: DeprecationWarning: Conversion of an array with ndim > 0 to a scalar is deprecated, and will error in future. Ensure you extract a single element from your array before performing this operation. (Deprecated NumPy 1.25.)\n  return float(score)\n 25%|██▌       | 73384/292033 [1:09:59<3:04:57, 19.70it/s]",
          "output_type": "stream"
        }
      ],
      "execution_count": null
    },
    {
      "cell_type": "markdown",
      "source": [
        "эта штука у меня постоянно зависала, не говоря уже о времени выполнения 25% за час, поэтому дальше я чисто нагенерила признаки, тк гпу в кагле закончилось, и где делать это дз еще я не нашла."
      ],
      "metadata": {
        "id": "HtgFPFBI4mSn"
      },
      "id": "HtgFPFBI4mSn"
    },
    {
      "id": "c9239787-7574-478a-b1b2-b83adf2ef59e",
      "cell_type": "code",
      "source": [
        "df_l2 = pd.DataFrame(all_rows, columns=[\n",
        "    'user_id', 'item_id',\n",
        "    'score_ease', 'score_ials', 'score_ncf',\n",
        "    'label', 'num_interactions'\n",
        "])"
      ],
      "metadata": {
        "trusted": true,
        "id": "c9239787-7574-478a-b1b2-b83adf2ef59e"
      },
      "outputs": [],
      "execution_count": null
    },
    {
      "id": "97447a44-27ae-434e-9a2f-e747db971cc4",
      "cell_type": "code",
      "source": [
        "def generate_features(df_row, train_df, users_df, items_df):\n",
        "    user_id = df_row['user_id']\n",
        "    item_id = df_row['item_id']\n",
        "    timestamp = pd.to_datetime(df_row['last_watch_dt'])\n",
        "\n",
        "    user_info = users_df[users_df.user_id == user_id].iloc[0] if user_id in users_df.user_id.values else None\n",
        "    item_info = items_df[items_df.item_id == item_id].iloc[0] if item_id in items_df.item_id.values else None\n",
        "\n",
        "    past_data = train_df[pd.to_datetime(train_df.last_watch_dt) < timestamp]\n",
        "\n",
        "    user_data = past_data[past_data.user_id == user_id]\n",
        "    user_avg_watch_pct = user_data.watched_pct.mean() if not user_data.empty else 0\n",
        "\n",
        "    user_avg_total_dur = user_data.total_dur.mean() if not user_data.empty else 0\n",
        "\n",
        "    item_data = past_data[past_data.item_id == item_id]\n",
        "    item_avg_watch_pct = item_data.watched_pct.mean() if not item_data.empty else 0\n",
        "\n",
        "    item_num_views = len(item_data)\n",
        "\n",
        "    genre_feature = 0\n",
        "    if item_info is not None:\n",
        "        genre = item_info['genres'].split(',')[0] if pd.notna(item_info['genres']) else None\n",
        "        if genre:\n",
        "            genre_items = items_df[items_df['genres'].str.contains(genre, na=False)].item_id.unique()\n",
        "            genre_data = past_data[(past_data.user_id == user_id) & (past_data.item_id.isin(genre_items))]\n",
        "            genre_feature = genre_data.watched_pct.mean() if not genre_data.empty else 0\n",
        "\n",
        "    sex_feature = 0\n",
        "    if user_info is not None:\n",
        "        sex = user_info['sex']\n",
        "        sex_users = users_df[users_df.sex == sex].user_id.unique()\n",
        "        sex_data = past_data[(past_data.user_id.isin(sex_users)) & (past_data.item_id == item_id)]\n",
        "        sex_feature = sex_data.watched_pct.mean() if not sex_data.empty else 0\n",
        "\n",
        "    director_feature = 0\n",
        "    if item_info is not None and pd.notna(item_info['directors']):\n",
        "        director = item_info['directors']\n",
        "        dir_items = items_df[items_df.directors == director].item_id.unique()\n",
        "        dir_data = past_data[(past_data.user_id == user_id) & (past_data.item_id.isin(dir_items))]\n",
        "        director_feature = dir_data.watched_pct.mean() if not dir_data.empty else 0\n",
        "\n",
        "    age_feature = 0\n",
        "    if user_info is not None:\n",
        "        age_group = user_info['age']\n",
        "        same_age_users = users_df[users_df.age == age_group].user_id.unique()\n",
        "        age_data = past_data[(past_data.user_id.isin(same_age_users)) & (past_data.item_id == item_id)]\n",
        "        age_feature = age_data.watched_pct.mean() if not age_data.empty else 0\n",
        "\n",
        "    income_feature = 0\n",
        "    if user_info is not None:\n",
        "        income = user_info['income']\n",
        "        same_income_users = users_df[users_df.income == income].user_id.unique()\n",
        "        income_data = past_data[(past_data.user_id.isin(same_income_users)) & (past_data.item_id == item_id)]\n",
        "        income_feature = income_data.watched_pct.mean() if not income_data.empty else 0\n",
        "\n",
        "    country_feature = 0\n",
        "    if item_info is not None and pd.notna(item_info['countries']):\n",
        "        country = item_info['countries'].split(',')[0]\n",
        "        country_items = items_df[items_df['countries'].str.contains(country, na=False)].item_id.unique()\n",
        "        country_feature = len(past_data[(past_data.user_id == user_id) & (past_data.item_id.isin(country_items))])\n",
        "\n",
        "    return pd.Series({\n",
        "        'user_avg_watch_pct': user_avg_watch_pct,\n",
        "        'user_avg_total_dur': user_avg_total_dur,\n",
        "        'item_avg_watch_pct': item_avg_watch_pct,\n",
        "        'item_num_views': item_num_views,\n",
        "        'user_avg_watch_pct_in_genre': genre_feature,\n",
        "        'item_avg_watch_pct_by_sex': sex_feature,\n",
        "        'user_avg_watch_pct_by_director': director_feature,\n",
        "        'user_avg_watch_pct_by_agegroup': age_feature,\n",
        "        'item_avg_watch_pct_by_income': income_feature,\n",
        "        'user_views_in_country': country_feature,\n",
        "    })"
      ],
      "metadata": {
        "trusted": true,
        "id": "97447a44-27ae-434e-9a2f-e747db971cc4"
      },
      "outputs": [],
      "execution_count": null
    }
  ]
}